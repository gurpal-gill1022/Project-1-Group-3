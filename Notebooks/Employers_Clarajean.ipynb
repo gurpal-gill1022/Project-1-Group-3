{
 "cells": [
  {
   "cell_type": "code",
   "execution_count": 1,
   "id": "9b4e825b",
   "metadata": {},
   "outputs": [],
   "source": [
    " # Modules\n",
    "import csv \n",
    "import os"
   ]
  },
  {
   "cell_type": "code",
   "execution_count": 2,
   "id": "c6449439",
   "metadata": {},
   "outputs": [],
   "source": [
    "from pathlib import Path"
   ]
  },
  {
   "cell_type": "code",
   "execution_count": 7,
   "id": "4db3eda8",
   "metadata": {},
   "outputs": [
    {
     "name": "stdout",
     "output_type": "stream",
     "text": [
      "Clarajean_Toronto_neighborhood_demographics_geographics_venues.csv\n"
     ]
    }
   ],
   "source": [
    "# Set path for file\n",
    "csv_path = Path(\"Clarajean_Toronto_neighborhood_demographics_geographics_venues.csv\")\n",
    "print (csv_path)"
   ]
  },
  {
   "cell_type": "code",
   "execution_count": 8,
   "id": "6605bf94",
   "metadata": {},
   "outputs": [],
   "source": [
    "import pandas as pd"
   ]
  },
  {
   "cell_type": "code",
   "execution_count": 5,
   "id": "b26ad4e0",
   "metadata": {},
   "outputs": [
    {
     "data": {
      "text/plain": [
       "<module 'pandas' from 'C:\\\\Users\\\\cluge\\\\anaconda3\\\\envs\\\\dev\\\\lib\\\\site-packages\\\\pandas\\\\__init__.py'>"
      ]
     },
     "execution_count": 5,
     "metadata": {},
     "output_type": "execute_result"
    }
   ],
   "source": [
    "pd"
   ]
  },
  {
   "cell_type": "code",
   "execution_count": 9,
   "id": "adf1bfc6",
   "metadata": {},
   "outputs": [
    {
     "data": {
      "text/html": [
       "<div>\n",
       "<style scoped>\n",
       "    .dataframe tbody tr th:only-of-type {\n",
       "        vertical-align: middle;\n",
       "    }\n",
       "\n",
       "    .dataframe tbody tr th {\n",
       "        vertical-align: top;\n",
       "    }\n",
       "\n",
       "    .dataframe thead th {\n",
       "        text-align: right;\n",
       "    }\n",
       "</style>\n",
       "<table border=\"1\" class=\"dataframe\">\n",
       "  <thead>\n",
       "    <tr style=\"text-align: right;\">\n",
       "      <th></th>\n",
       "      <th>District</th>\n",
       "      <th>Total population</th>\n",
       "      <th>number of educated people</th>\n",
       "      <th>number of 15-45</th>\n",
       "      <th>number of employers</th>\n",
       "      <th>long_latt</th>\n",
       "      <th>number_gyms</th>\n",
       "      <th>number_venues</th>\n",
       "    </tr>\n",
       "  </thead>\n",
       "  <tbody>\n",
       "    <tr>\n",
       "      <th>0</th>\n",
       "      <td>Old Toronto</td>\n",
       "      <td>43365</td>\n",
       "      <td>39080</td>\n",
       "      <td>29695</td>\n",
       "      <td>31375</td>\n",
       "      <td>[-79.3546047826462, 43.6549105254359]</td>\n",
       "      <td>3</td>\n",
       "      <td>95</td>\n",
       "    </tr>\n",
       "    <tr>\n",
       "      <th>1</th>\n",
       "      <td>North York</td>\n",
       "      <td>45025</td>\n",
       "      <td>37220</td>\n",
       "      <td>23425</td>\n",
       "      <td>22810</td>\n",
       "      <td>[-79.3911674290048, 43.7806330113652]</td>\n",
       "      <td>0</td>\n",
       "      <td>4</td>\n",
       "    </tr>\n",
       "    <tr>\n",
       "      <th>2</th>\n",
       "      <td>Scarborough</td>\n",
       "      <td>45905</td>\n",
       "      <td>31355</td>\n",
       "      <td>19040</td>\n",
       "      <td>22630</td>\n",
       "      <td>[-79.200181515255, 43.8036974725661]</td>\n",
       "      <td>1</td>\n",
       "      <td>20</td>\n",
       "    </tr>\n",
       "    <tr>\n",
       "      <th>3</th>\n",
       "      <td>Scarborough</td>\n",
       "      <td>53350</td>\n",
       "      <td>33590</td>\n",
       "      <td>22885</td>\n",
       "      <td>21665</td>\n",
       "      <td>[-79.2183581838386, 43.7490457922858]</td>\n",
       "      <td>1</td>\n",
       "      <td>14</td>\n",
       "    </tr>\n",
       "    <tr>\n",
       "      <th>4</th>\n",
       "      <td>Etobicoke</td>\n",
       "      <td>38070</td>\n",
       "      <td>28235</td>\n",
       "      <td>15960</td>\n",
       "      <td>19735</td>\n",
       "      <td>[-79.541660068977, 43.6150511840077]</td>\n",
       "      <td>0</td>\n",
       "      <td>47</td>\n",
       "    </tr>\n",
       "    <tr>\n",
       "      <th>...</th>\n",
       "      <td>...</td>\n",
       "      <td>...</td>\n",
       "      <td>...</td>\n",
       "      <td>...</td>\n",
       "      <td>...</td>\n",
       "      <td>...</td>\n",
       "      <td>...</td>\n",
       "      <td>...</td>\n",
       "    </tr>\n",
       "    <tr>\n",
       "      <th>135</th>\n",
       "      <td>East York</td>\n",
       "      <td>7765</td>\n",
       "      <td>4980</td>\n",
       "      <td>3475</td>\n",
       "      <td>3805</td>\n",
       "      <td>[-79.3354787855352, 43.6725854142185]</td>\n",
       "      <td>1</td>\n",
       "      <td>75</td>\n",
       "    </tr>\n",
       "    <tr>\n",
       "      <th>136</th>\n",
       "      <td>Old Toronto</td>\n",
       "      <td>7790</td>\n",
       "      <td>5435</td>\n",
       "      <td>4565</td>\n",
       "      <td>3680</td>\n",
       "      <td>[-79.3936115465026, 43.6655972244077]</td>\n",
       "      <td>4</td>\n",
       "      <td>95</td>\n",
       "    </tr>\n",
       "    <tr>\n",
       "      <th>137</th>\n",
       "      <td>North York</td>\n",
       "      <td>9950</td>\n",
       "      <td>5260</td>\n",
       "      <td>3765</td>\n",
       "      <td>3560</td>\n",
       "      <td>[-79.5011714568399, 43.7185614269282]</td>\n",
       "      <td>0</td>\n",
       "      <td>18</td>\n",
       "    </tr>\n",
       "    <tr>\n",
       "      <th>138</th>\n",
       "      <td>Old Toronto</td>\n",
       "      <td>10010</td>\n",
       "      <td>5820</td>\n",
       "      <td>4940</td>\n",
       "      <td>3450</td>\n",
       "      <td>[-79.3564502940338, 43.6644904578707]</td>\n",
       "      <td>1</td>\n",
       "      <td>95</td>\n",
       "    </tr>\n",
       "    <tr>\n",
       "      <th>139</th>\n",
       "      <td>York</td>\n",
       "      <td>6490</td>\n",
       "      <td>3585</td>\n",
       "      <td>2805</td>\n",
       "      <td>2790</td>\n",
       "      <td>[-79.4647302913102, 43.692362616926]</td>\n",
       "      <td>0</td>\n",
       "      <td>25</td>\n",
       "    </tr>\n",
       "  </tbody>\n",
       "</table>\n",
       "<p>140 rows × 8 columns</p>\n",
       "</div>"
      ],
      "text/plain": [
       "        District  Total population  number of educated people  \\\n",
       "0    Old Toronto             43365                      39080   \n",
       "1     North York             45025                      37220   \n",
       "2    Scarborough             45905                      31355   \n",
       "3    Scarborough             53350                      33590   \n",
       "4      Etobicoke             38070                      28235   \n",
       "..           ...               ...                        ...   \n",
       "135    East York              7765                       4980   \n",
       "136  Old Toronto              7790                       5435   \n",
       "137   North York              9950                       5260   \n",
       "138  Old Toronto             10010                       5820   \n",
       "139         York              6490                       3585   \n",
       "\n",
       "     number of 15-45  number of employers  \\\n",
       "0              29695                31375   \n",
       "1              23425                22810   \n",
       "2              19040                22630   \n",
       "3              22885                21665   \n",
       "4              15960                19735   \n",
       "..               ...                  ...   \n",
       "135             3475                 3805   \n",
       "136             4565                 3680   \n",
       "137             3765                 3560   \n",
       "138             4940                 3450   \n",
       "139             2805                 2790   \n",
       "\n",
       "                                 long_latt  number_gyms  number_venues  \n",
       "0    [-79.3546047826462, 43.6549105254359]            3             95  \n",
       "1    [-79.3911674290048, 43.7806330113652]            0              4  \n",
       "2     [-79.200181515255, 43.8036974725661]            1             20  \n",
       "3    [-79.2183581838386, 43.7490457922858]            1             14  \n",
       "4     [-79.541660068977, 43.6150511840077]            0             47  \n",
       "..                                     ...          ...            ...  \n",
       "135  [-79.3354787855352, 43.6725854142185]            1             75  \n",
       "136  [-79.3936115465026, 43.6655972244077]            4             95  \n",
       "137  [-79.5011714568399, 43.7185614269282]            0             18  \n",
       "138  [-79.3564502940338, 43.6644904578707]            1             95  \n",
       "139   [-79.4647302913102, 43.692362616926]            0             25  \n",
       "\n",
       "[140 rows x 8 columns]"
      ]
     },
     "execution_count": 9,
     "metadata": {},
     "output_type": "execute_result"
    }
   ],
   "source": [
    "pd.read_csv(csv_path)"
   ]
  },
  {
   "cell_type": "code",
   "execution_count": 10,
   "id": "4fbf22d2",
   "metadata": {},
   "outputs": [],
   "source": [
    "#Set a variable for the reading of csv\n",
    "csv_path_df = pd.read_csv(csv_path)"
   ]
  },
  {
   "cell_type": "code",
   "execution_count": 11,
   "id": "af86da64",
   "metadata": {},
   "outputs": [
    {
     "data": {
      "text/html": [
       "<div>\n",
       "<style scoped>\n",
       "    .dataframe tbody tr th:only-of-type {\n",
       "        vertical-align: middle;\n",
       "    }\n",
       "\n",
       "    .dataframe tbody tr th {\n",
       "        vertical-align: top;\n",
       "    }\n",
       "\n",
       "    .dataframe thead th {\n",
       "        text-align: right;\n",
       "    }\n",
       "</style>\n",
       "<table border=\"1\" class=\"dataframe\">\n",
       "  <thead>\n",
       "    <tr style=\"text-align: right;\">\n",
       "      <th></th>\n",
       "      <th>District</th>\n",
       "      <th>Total population</th>\n",
       "      <th>number of educated people</th>\n",
       "      <th>number of 15-45</th>\n",
       "      <th>number of employers</th>\n",
       "      <th>long_latt</th>\n",
       "      <th>number_gyms</th>\n",
       "      <th>number_venues</th>\n",
       "    </tr>\n",
       "  </thead>\n",
       "  <tbody>\n",
       "    <tr>\n",
       "      <th>0</th>\n",
       "      <td>Old Toronto</td>\n",
       "      <td>43365</td>\n",
       "      <td>39080</td>\n",
       "      <td>29695</td>\n",
       "      <td>31375</td>\n",
       "      <td>[-79.3546047826462, 43.6549105254359]</td>\n",
       "      <td>3</td>\n",
       "      <td>95</td>\n",
       "    </tr>\n",
       "    <tr>\n",
       "      <th>1</th>\n",
       "      <td>North York</td>\n",
       "      <td>45025</td>\n",
       "      <td>37220</td>\n",
       "      <td>23425</td>\n",
       "      <td>22810</td>\n",
       "      <td>[-79.3911674290048, 43.7806330113652]</td>\n",
       "      <td>0</td>\n",
       "      <td>4</td>\n",
       "    </tr>\n",
       "    <tr>\n",
       "      <th>2</th>\n",
       "      <td>Scarborough</td>\n",
       "      <td>45905</td>\n",
       "      <td>31355</td>\n",
       "      <td>19040</td>\n",
       "      <td>22630</td>\n",
       "      <td>[-79.200181515255, 43.8036974725661]</td>\n",
       "      <td>1</td>\n",
       "      <td>20</td>\n",
       "    </tr>\n",
       "    <tr>\n",
       "      <th>3</th>\n",
       "      <td>Scarborough</td>\n",
       "      <td>53350</td>\n",
       "      <td>33590</td>\n",
       "      <td>22885</td>\n",
       "      <td>21665</td>\n",
       "      <td>[-79.2183581838386, 43.7490457922858]</td>\n",
       "      <td>1</td>\n",
       "      <td>14</td>\n",
       "    </tr>\n",
       "    <tr>\n",
       "      <th>4</th>\n",
       "      <td>Etobicoke</td>\n",
       "      <td>38070</td>\n",
       "      <td>28235</td>\n",
       "      <td>15960</td>\n",
       "      <td>19735</td>\n",
       "      <td>[-79.541660068977, 43.6150511840077]</td>\n",
       "      <td>0</td>\n",
       "      <td>47</td>\n",
       "    </tr>\n",
       "    <tr>\n",
       "      <th>...</th>\n",
       "      <td>...</td>\n",
       "      <td>...</td>\n",
       "      <td>...</td>\n",
       "      <td>...</td>\n",
       "      <td>...</td>\n",
       "      <td>...</td>\n",
       "      <td>...</td>\n",
       "      <td>...</td>\n",
       "    </tr>\n",
       "    <tr>\n",
       "      <th>135</th>\n",
       "      <td>East York</td>\n",
       "      <td>7765</td>\n",
       "      <td>4980</td>\n",
       "      <td>3475</td>\n",
       "      <td>3805</td>\n",
       "      <td>[-79.3354787855352, 43.6725854142185]</td>\n",
       "      <td>1</td>\n",
       "      <td>75</td>\n",
       "    </tr>\n",
       "    <tr>\n",
       "      <th>136</th>\n",
       "      <td>Old Toronto</td>\n",
       "      <td>7790</td>\n",
       "      <td>5435</td>\n",
       "      <td>4565</td>\n",
       "      <td>3680</td>\n",
       "      <td>[-79.3936115465026, 43.6655972244077]</td>\n",
       "      <td>4</td>\n",
       "      <td>95</td>\n",
       "    </tr>\n",
       "    <tr>\n",
       "      <th>137</th>\n",
       "      <td>North York</td>\n",
       "      <td>9950</td>\n",
       "      <td>5260</td>\n",
       "      <td>3765</td>\n",
       "      <td>3560</td>\n",
       "      <td>[-79.5011714568399, 43.7185614269282]</td>\n",
       "      <td>0</td>\n",
       "      <td>18</td>\n",
       "    </tr>\n",
       "    <tr>\n",
       "      <th>138</th>\n",
       "      <td>Old Toronto</td>\n",
       "      <td>10010</td>\n",
       "      <td>5820</td>\n",
       "      <td>4940</td>\n",
       "      <td>3450</td>\n",
       "      <td>[-79.3564502940338, 43.6644904578707]</td>\n",
       "      <td>1</td>\n",
       "      <td>95</td>\n",
       "    </tr>\n",
       "    <tr>\n",
       "      <th>139</th>\n",
       "      <td>York</td>\n",
       "      <td>6490</td>\n",
       "      <td>3585</td>\n",
       "      <td>2805</td>\n",
       "      <td>2790</td>\n",
       "      <td>[-79.4647302913102, 43.692362616926]</td>\n",
       "      <td>0</td>\n",
       "      <td>25</td>\n",
       "    </tr>\n",
       "  </tbody>\n",
       "</table>\n",
       "<p>140 rows × 8 columns</p>\n",
       "</div>"
      ],
      "text/plain": [
       "        District  Total population  number of educated people  \\\n",
       "0    Old Toronto             43365                      39080   \n",
       "1     North York             45025                      37220   \n",
       "2    Scarborough             45905                      31355   \n",
       "3    Scarborough             53350                      33590   \n",
       "4      Etobicoke             38070                      28235   \n",
       "..           ...               ...                        ...   \n",
       "135    East York              7765                       4980   \n",
       "136  Old Toronto              7790                       5435   \n",
       "137   North York              9950                       5260   \n",
       "138  Old Toronto             10010                       5820   \n",
       "139         York              6490                       3585   \n",
       "\n",
       "     number of 15-45  number of employers  \\\n",
       "0              29695                31375   \n",
       "1              23425                22810   \n",
       "2              19040                22630   \n",
       "3              22885                21665   \n",
       "4              15960                19735   \n",
       "..               ...                  ...   \n",
       "135             3475                 3805   \n",
       "136             4565                 3680   \n",
       "137             3765                 3560   \n",
       "138             4940                 3450   \n",
       "139             2805                 2790   \n",
       "\n",
       "                                 long_latt  number_gyms  number_venues  \n",
       "0    [-79.3546047826462, 43.6549105254359]            3             95  \n",
       "1    [-79.3911674290048, 43.7806330113652]            0              4  \n",
       "2     [-79.200181515255, 43.8036974725661]            1             20  \n",
       "3    [-79.2183581838386, 43.7490457922858]            1             14  \n",
       "4     [-79.541660068977, 43.6150511840077]            0             47  \n",
       "..                                     ...          ...            ...  \n",
       "135  [-79.3354787855352, 43.6725854142185]            1             75  \n",
       "136  [-79.3936115465026, 43.6655972244077]            4             95  \n",
       "137  [-79.5011714568399, 43.7185614269282]            0             18  \n",
       "138  [-79.3564502940338, 43.6644904578707]            1             95  \n",
       "139   [-79.4647302913102, 43.692362616926]            0             25  \n",
       "\n",
       "[140 rows x 8 columns]"
      ]
     },
     "execution_count": 11,
     "metadata": {},
     "output_type": "execute_result"
    }
   ],
   "source": [
    "#Test the variable\n",
    "csv_path_df"
   ]
  },
  {
   "cell_type": "code",
   "execution_count": 12,
   "id": "3bbcee71",
   "metadata": {},
   "outputs": [],
   "source": [
    "#Deteing unnecessary columns\n",
    "del csv_path_df[\"long_latt\"]"
   ]
  },
  {
   "cell_type": "code",
   "execution_count": 13,
   "id": "209b0ab9",
   "metadata": {},
   "outputs": [],
   "source": [
    "del csv_path_df[\"number of 15-45\"]"
   ]
  },
  {
   "cell_type": "code",
   "execution_count": 14,
   "id": "f399c710",
   "metadata": {},
   "outputs": [],
   "source": [
    "del csv_path_df[\"number_gyms\"]"
   ]
  },
  {
   "cell_type": "code",
   "execution_count": 15,
   "id": "c233300d",
   "metadata": {},
   "outputs": [],
   "source": [
    "del csv_path_df[\"number_venues\"]"
   ]
  },
  {
   "cell_type": "code",
   "execution_count": 16,
   "id": "5196baa3",
   "metadata": {},
   "outputs": [
    {
     "data": {
      "text/html": [
       "<div>\n",
       "<style scoped>\n",
       "    .dataframe tbody tr th:only-of-type {\n",
       "        vertical-align: middle;\n",
       "    }\n",
       "\n",
       "    .dataframe tbody tr th {\n",
       "        vertical-align: top;\n",
       "    }\n",
       "\n",
       "    .dataframe thead th {\n",
       "        text-align: right;\n",
       "    }\n",
       "</style>\n",
       "<table border=\"1\" class=\"dataframe\">\n",
       "  <thead>\n",
       "    <tr style=\"text-align: right;\">\n",
       "      <th></th>\n",
       "      <th>District</th>\n",
       "      <th>Total population</th>\n",
       "      <th>number of educated people</th>\n",
       "      <th>number of employers</th>\n",
       "    </tr>\n",
       "  </thead>\n",
       "  <tbody>\n",
       "    <tr>\n",
       "      <th>0</th>\n",
       "      <td>Old Toronto</td>\n",
       "      <td>43365</td>\n",
       "      <td>39080</td>\n",
       "      <td>31375</td>\n",
       "    </tr>\n",
       "    <tr>\n",
       "      <th>1</th>\n",
       "      <td>North York</td>\n",
       "      <td>45025</td>\n",
       "      <td>37220</td>\n",
       "      <td>22810</td>\n",
       "    </tr>\n",
       "    <tr>\n",
       "      <th>2</th>\n",
       "      <td>Scarborough</td>\n",
       "      <td>45905</td>\n",
       "      <td>31355</td>\n",
       "      <td>22630</td>\n",
       "    </tr>\n",
       "    <tr>\n",
       "      <th>3</th>\n",
       "      <td>Scarborough</td>\n",
       "      <td>53350</td>\n",
       "      <td>33590</td>\n",
       "      <td>21665</td>\n",
       "    </tr>\n",
       "    <tr>\n",
       "      <th>4</th>\n",
       "      <td>Etobicoke</td>\n",
       "      <td>38070</td>\n",
       "      <td>28235</td>\n",
       "      <td>19735</td>\n",
       "    </tr>\n",
       "    <tr>\n",
       "      <th>...</th>\n",
       "      <td>...</td>\n",
       "      <td>...</td>\n",
       "      <td>...</td>\n",
       "      <td>...</td>\n",
       "    </tr>\n",
       "    <tr>\n",
       "      <th>135</th>\n",
       "      <td>East York</td>\n",
       "      <td>7765</td>\n",
       "      <td>4980</td>\n",
       "      <td>3805</td>\n",
       "    </tr>\n",
       "    <tr>\n",
       "      <th>136</th>\n",
       "      <td>Old Toronto</td>\n",
       "      <td>7790</td>\n",
       "      <td>5435</td>\n",
       "      <td>3680</td>\n",
       "    </tr>\n",
       "    <tr>\n",
       "      <th>137</th>\n",
       "      <td>North York</td>\n",
       "      <td>9950</td>\n",
       "      <td>5260</td>\n",
       "      <td>3560</td>\n",
       "    </tr>\n",
       "    <tr>\n",
       "      <th>138</th>\n",
       "      <td>Old Toronto</td>\n",
       "      <td>10010</td>\n",
       "      <td>5820</td>\n",
       "      <td>3450</td>\n",
       "    </tr>\n",
       "    <tr>\n",
       "      <th>139</th>\n",
       "      <td>York</td>\n",
       "      <td>6490</td>\n",
       "      <td>3585</td>\n",
       "      <td>2790</td>\n",
       "    </tr>\n",
       "  </tbody>\n",
       "</table>\n",
       "<p>140 rows × 4 columns</p>\n",
       "</div>"
      ],
      "text/plain": [
       "        District  Total population  number of educated people  \\\n",
       "0    Old Toronto             43365                      39080   \n",
       "1     North York             45025                      37220   \n",
       "2    Scarborough             45905                      31355   \n",
       "3    Scarborough             53350                      33590   \n",
       "4      Etobicoke             38070                      28235   \n",
       "..           ...               ...                        ...   \n",
       "135    East York              7765                       4980   \n",
       "136  Old Toronto              7790                       5435   \n",
       "137   North York              9950                       5260   \n",
       "138  Old Toronto             10010                       5820   \n",
       "139         York              6490                       3585   \n",
       "\n",
       "     number of employers  \n",
       "0                  31375  \n",
       "1                  22810  \n",
       "2                  22630  \n",
       "3                  21665  \n",
       "4                  19735  \n",
       "..                   ...  \n",
       "135                 3805  \n",
       "136                 3680  \n",
       "137                 3560  \n",
       "138                 3450  \n",
       "139                 2790  \n",
       "\n",
       "[140 rows x 4 columns]"
      ]
     },
     "execution_count": 16,
     "metadata": {},
     "output_type": "execute_result"
    }
   ],
   "source": [
    "#Final dataframe with necessary columns\n",
    "csv_path_df"
   ]
  },
  {
   "cell_type": "code",
   "execution_count": 17,
   "id": "d5186629",
   "metadata": {},
   "outputs": [
    {
     "data": {
      "text/plain": [
       "District                     140\n",
       "Total population             140\n",
       "number of educated people    140\n",
       "number of employers          140\n",
       "dtype: int64"
      ]
     },
     "execution_count": 17,
     "metadata": {},
     "output_type": "execute_result"
    }
   ],
   "source": [
    "#Identify incomplete rows\n",
    "csv_path_df.count()"
   ]
  },
  {
   "cell_type": "code",
   "execution_count": 18,
   "id": "ca32c353",
   "metadata": {},
   "outputs": [
    {
     "data": {
      "text/plain": [
       "District                     object\n",
       "Total population              int64\n",
       "number of educated people     int64\n",
       "number of employers           int64\n",
       "dtype: object"
      ]
     },
     "execution_count": 18,
     "metadata": {},
     "output_type": "execute_result"
    }
   ],
   "source": [
    "#identify if each column has the righ data type\n",
    "csv_path_df.dtypes"
   ]
  },
  {
   "cell_type": "code",
   "execution_count": 36,
   "id": "786d9bb1",
   "metadata": {},
   "outputs": [],
   "source": [
    "#Grouping the row values of districts and assigning variable name \"Grouping\"\n",
    "Grouping = csv_path_df.groupby([\"District\"])"
   ]
  },
  {
   "cell_type": "code",
   "execution_count": 37,
   "id": "f20b131d",
   "metadata": {},
   "outputs": [],
   "source": [
    "#Calculating the total of number of employers for each district\n",
    "sum_values= Grouping[\"number of employers\"].sum()"
   ]
  },
  {
   "cell_type": "code",
   "execution_count": 38,
   "id": "7409a257",
   "metadata": {},
   "outputs": [
    {
     "data": {
      "text/plain": [
       "Old Toronto    38\n",
       "North York     34\n",
       "SCARBOROUGH    26\n",
       "Etobicoke      17\n",
       "East York      14\n",
       "York           11\n",
       "Name: District, dtype: int64"
      ]
     },
     "execution_count": 38,
     "metadata": {},
     "output_type": "execute_result"
    }
   ],
   "source": [
    "csv_path_df[\"District\"].value_counts()"
   ]
  },
  {
   "cell_type": "code",
   "execution_count": 39,
   "id": "f5d9439b",
   "metadata": {},
   "outputs": [],
   "source": [
    "#Fixing the error where Scarborough was counted as twice\n",
    "csv_path_df[\"District\"] = csv_path_df[\"District\"].replace({\"Scarborough \": \"SCARBOROUGH\", \"Scarborough\": \"SCARBOROUGH\"})"
   ]
  },
  {
   "cell_type": "code",
   "execution_count": 40,
   "id": "fa0944df",
   "metadata": {},
   "outputs": [
    {
     "data": {
      "text/plain": [
       "Old Toronto    38\n",
       "North York     34\n",
       "SCARBOROUGH    26\n",
       "Etobicoke      17\n",
       "East York      14\n",
       "York           11\n",
       "Name: District, dtype: int64"
      ]
     },
     "execution_count": 40,
     "metadata": {},
     "output_type": "execute_result"
    }
   ],
   "source": [
    "csv_path_df[\"District\"].value_counts()"
   ]
  },
  {
   "cell_type": "code",
   "execution_count": 50,
   "id": "252c6a3b",
   "metadata": {},
   "outputs": [],
   "source": [
    "#Calculating the total of number of employers for each district\n",
    "Employers = Grouping[\"number of employers\"].sum()"
   ]
  },
  {
   "cell_type": "code",
   "execution_count": 51,
   "id": "a70345ca",
   "metadata": {},
   "outputs": [
    {
     "data": {
      "text/plain": [
       "District\n",
       "East York      100305\n",
       "Etobicoke      141350\n",
       "North York     288810\n",
       "Old Toronto    377510\n",
       "SCARBOROUGH    282050\n",
       "York            76885\n",
       "Name: number of employers, dtype: int64"
      ]
     },
     "execution_count": 51,
     "metadata": {},
     "output_type": "execute_result"
    }
   ],
   "source": [
    "#Printing the results of the sum\n",
    "Employers.head(6)"
   ]
  },
  {
   "cell_type": "code",
   "execution_count": 55,
   "id": "78b4ecb7",
   "metadata": {},
   "outputs": [],
   "source": [
    "#Calculating the total of number of educated people for each district\n",
    "Educated_people = Grouping[\"number of educated people\"].sum()"
   ]
  },
  {
   "cell_type": "code",
   "execution_count": 56,
   "id": "3223b0e8",
   "metadata": {},
   "outputs": [
    {
     "data": {
      "text/plain": [
       "District\n",
       "East York      135070\n",
       "Etobicoke      199900\n",
       "North York     433620\n",
       "Old Toronto    504195\n",
       "SCARBOROUGH    420410\n",
       "York            98980\n",
       "Name: number of educated people, dtype: int64"
      ]
     },
     "execution_count": 56,
     "metadata": {},
     "output_type": "execute_result"
    }
   ],
   "source": [
    "#Printing the results of the sum\n",
    "Educated_people.head(6)"
   ]
  },
  {
   "cell_type": "code",
   "execution_count": 57,
   "id": "cb311e6e",
   "metadata": {},
   "outputs": [],
   "source": [
    "#Calculating the total population for each district\n",
    "Total_population = Grouping[\"Total population\"].sum()"
   ]
  },
  {
   "cell_type": "code",
   "execution_count": 58,
   "id": "d285e536",
   "metadata": {},
   "outputs": [
    {
     "data": {
      "text/plain": [
       "District\n",
       "East York      205905\n",
       "Etobicoke      293050\n",
       "North York     637960\n",
       "Old Toronto    674915\n",
       "SCARBOROUGH    641510\n",
       "York           161430\n",
       "Name: Total population, dtype: int64"
      ]
     },
     "execution_count": 58,
     "metadata": {},
     "output_type": "execute_result"
    }
   ],
   "source": [
    "#Printing the results of the sum\n",
    "Total_population.head(6)"
   ]
  },
  {
   "cell_type": "code",
   "execution_count": 63,
   "id": "68a695b2",
   "metadata": {},
   "outputs": [],
   "source": [
    "#Crating a dataframe \n",
    "final_dataframe = pd.DataFrame({\"District\":[\"East York\", \"Etobicoke\", \"North York\", \"Old Toronto \", \"Scarborough\", \"York\"], \n",
    "                  \"Educated_people\" : [ 135070, 199900, 433620, 504195, 420410, 98980], \n",
    "                  \"Total_population\" : [ 205905, 293050, 637960, 674915, 641510, 161430],\n",
    "                 \"Employers\" : [100305, 141250, 288810, 377510, 282050, 76885]})"
   ]
  },
  {
   "cell_type": "code",
   "execution_count": 64,
   "id": "9a1ea4ea",
   "metadata": {},
   "outputs": [
    {
     "data": {
      "text/html": [
       "<div>\n",
       "<style scoped>\n",
       "    .dataframe tbody tr th:only-of-type {\n",
       "        vertical-align: middle;\n",
       "    }\n",
       "\n",
       "    .dataframe tbody tr th {\n",
       "        vertical-align: top;\n",
       "    }\n",
       "\n",
       "    .dataframe thead th {\n",
       "        text-align: right;\n",
       "    }\n",
       "</style>\n",
       "<table border=\"1\" class=\"dataframe\">\n",
       "  <thead>\n",
       "    <tr style=\"text-align: right;\">\n",
       "      <th></th>\n",
       "      <th>District</th>\n",
       "      <th>Educated_people</th>\n",
       "      <th>Total_population</th>\n",
       "      <th>Employers</th>\n",
       "    </tr>\n",
       "  </thead>\n",
       "  <tbody>\n",
       "    <tr>\n",
       "      <th>0</th>\n",
       "      <td>East York</td>\n",
       "      <td>135070</td>\n",
       "      <td>205905</td>\n",
       "      <td>100305</td>\n",
       "    </tr>\n",
       "    <tr>\n",
       "      <th>1</th>\n",
       "      <td>Etobicoke</td>\n",
       "      <td>199900</td>\n",
       "      <td>293050</td>\n",
       "      <td>141250</td>\n",
       "    </tr>\n",
       "    <tr>\n",
       "      <th>2</th>\n",
       "      <td>North York</td>\n",
       "      <td>433620</td>\n",
       "      <td>637960</td>\n",
       "      <td>288810</td>\n",
       "    </tr>\n",
       "    <tr>\n",
       "      <th>3</th>\n",
       "      <td>Old Toronto</td>\n",
       "      <td>504195</td>\n",
       "      <td>674915</td>\n",
       "      <td>377510</td>\n",
       "    </tr>\n",
       "    <tr>\n",
       "      <th>4</th>\n",
       "      <td>Scarborough</td>\n",
       "      <td>420410</td>\n",
       "      <td>641510</td>\n",
       "      <td>282050</td>\n",
       "    </tr>\n",
       "    <tr>\n",
       "      <th>5</th>\n",
       "      <td>York</td>\n",
       "      <td>98980</td>\n",
       "      <td>161430</td>\n",
       "      <td>76885</td>\n",
       "    </tr>\n",
       "  </tbody>\n",
       "</table>\n",
       "</div>"
      ],
      "text/plain": [
       "       District  Educated_people  Total_population  Employers\n",
       "0     East York           135070            205905     100305\n",
       "1     Etobicoke           199900            293050     141250\n",
       "2    North York           433620            637960     288810\n",
       "3  Old Toronto            504195            674915     377510\n",
       "4   Scarborough           420410            641510     282050\n",
       "5          York            98980            161430      76885"
      ]
     },
     "execution_count": 64,
     "metadata": {},
     "output_type": "execute_result"
    }
   ],
   "source": [
    "final_dataframe"
   ]
  },
  {
   "cell_type": "code",
   "execution_count": 65,
   "id": "2d6fd561",
   "metadata": {},
   "outputs": [
    {
     "data": {
      "text/plain": [
       "count         6.000000\n",
       "mean     211151.666667\n",
       "std      121588.880605\n",
       "min       76885.000000\n",
       "25%      110566.250000\n",
       "50%      211700.000000\n",
       "75%      287120.000000\n",
       "max      377510.000000\n",
       "Name: number of employers, dtype: float64"
      ]
     },
     "execution_count": 65,
     "metadata": {},
     "output_type": "execute_result"
    }
   ],
   "source": [
    "#Statistical measures for the number of employers per District\n",
    "Employers.describe()"
   ]
  },
  {
   "cell_type": "code",
   "execution_count": 66,
   "id": "4f9c8213",
   "metadata": {},
   "outputs": [
    {
     "data": {
      "text/plain": [
       "count         6.000000\n",
       "mean     435795.000000\n",
       "std      240361.986678\n",
       "min      161430.000000\n",
       "25%      227691.250000\n",
       "50%      465505.000000\n",
       "75%      640622.500000\n",
       "max      674915.000000\n",
       "Name: Total population, dtype: float64"
      ]
     },
     "execution_count": 66,
     "metadata": {},
     "output_type": "execute_result"
    }
   ],
   "source": [
    "#Statistical measures for the Total_population per District\n",
    "Total_population.describe()"
   ]
  },
  {
   "cell_type": "code",
   "execution_count": 67,
   "id": "02dcdf65",
   "metadata": {},
   "outputs": [
    {
     "data": {
      "text/plain": [
       "count         6.000000\n",
       "mean     298695.833333\n",
       "std      174166.139488\n",
       "min       98980.000000\n",
       "25%      151277.500000\n",
       "50%      310155.000000\n",
       "75%      430317.500000\n",
       "max      504195.000000\n",
       "Name: number of educated people, dtype: float64"
      ]
     },
     "execution_count": 67,
     "metadata": {},
     "output_type": "execute_result"
    }
   ],
   "source": [
    "#Statistical measures for the Educated_people per District\n",
    "Educated_people.describe()"
   ]
  },
  {
   "cell_type": "code",
   "execution_count": 68,
   "id": "e731d522",
   "metadata": {},
   "outputs": [],
   "source": [
    "#Importing Numpy for calculations and matplotlib for charting\n",
    "import numpy as np\n",
    "import matplotlib.pyplot as plt"
   ]
  },
  {
   "cell_type": "code",
   "execution_count": 75,
   "id": "718f5fbe",
   "metadata": {},
   "outputs": [],
   "source": [
    "#Creating an array with the total number of employers per district calculated above and call it Employers as used before\n",
    "Employers = [100305, 141350, 288810, 377510, 282050, 76885]\n",
    "x_axis = np.arange(1,len(Employers)+1)"
   ]
  },
  {
   "cell_type": "code",
   "execution_count": 76,
   "id": "453f74f8",
   "metadata": {},
   "outputs": [
    {
     "data": {
      "text/plain": [
       "<BarContainer object of 6 artists>"
      ]
     },
     "execution_count": 76,
     "metadata": {},
     "output_type": "execute_result"
    },
    {
     "data": {
      "image/png": "[encoded data removed]",
      "text/plain": [
       "<Figure size 640x480 with 1 Axes>"
      ]
     },
     "metadata": {},
     "output_type": "display_data"
    }
   ],
   "source": [
    "#Tell matplotlib that we will be makin a bar chart\n",
    "#Employers is our y-axis and x-axis is x\n",
    "#Applying align='center' to ensure bars line up with tick marks\n",
    "plt.bar(x_axis, Employers, color='b', alpha=0.5, align=\"center\")"
   ]
  },
  {
   "cell_type": "code",
   "execution_count": 77,
   "id": "dcc067c8",
   "metadata": {},
   "outputs": [
    {
     "data": {
      "text/plain": [
       "array([1, 2, 3, 4, 5, 6])"
      ]
     },
     "execution_count": 77,
     "metadata": {},
     "output_type": "execute_result"
    }
   ],
   "source": [
    "x_axis"
   ]
  },
  {
   "cell_type": "code",
   "execution_count": 78,
   "id": "ed997571",
   "metadata": {},
   "outputs": [
    {
     "data": {
      "image/png": "[encoded data removed]",
      "text/plain": [
       "<Figure size 640x480 with 1 Axes>"
      ]
     },
     "metadata": {},
     "output_type": "display_data"
    }
   ],
   "source": [
    "#Tell matplotlib where to place each of x-axis headers\n",
    "plt.bar(x_axis, Employers, color='b', alpha=0.5, align=\"center\")\n",
    "\n",
    "#change headers of x_axis\n",
    "tick_locations = [value for value in x_axis]\n",
    "plt.xticks(tick_locations, [\"East York\", \"Etobicoke\", \"North York\", \"Old Toronto \", \"  Scarborough\", \"York\"])\n",
    "\n",
    "#Set the x limits of the current chart and Set limits for y axis so bars dont ereach ceiling\n",
    "plt.xlim(0.5, len(x_axis)+0.5)\n",
    "plt.ylim(0, max(Employers)+20000)\n",
    "\n",
    "#Give chart some labels and a title\n",
    "plt.title (\"Number of Employers per District\")\n",
    "plt.xlabel(\"Districts\")\n",
    "plt.ylabel(\"Number of Employers\")\n",
    "plt.savefig(\"Fig1ClarajeanLugenge.png\")\n",
    "plt.show()"
   ]
  },
  {
   "cell_type": "code",
   "execution_count": 122,
   "id": "7cb2da51",
   "metadata": {},
   "outputs": [],
   "source": [
    "#Labels for the sections of our pie chart\n",
    "Districts = [\"East York\", \"Etobicoke\", \"North York\", \"Old Toronto \", \"  Scarborough\", \"York\"]\n",
    "\n",
    "#The values of each section of the pie chart\n",
    "\n",
    "Employers = [100305, 141350, 288810, 377510, 282050, 76885]\n",
    "\n",
    "#The colors of each section of the pie chart\n",
    "colors = [\"red\", \"orange\", \"lightcoral\", \"lightskyblue\", \"yellow\", \"green\"]\n",
    "\n",
    "#Separating Old Toronto from the rest due to it having the highest number of employers\n",
    "explode = [0, 0, 0, 0.1, 0, 0]"
   ]
  },
  {
   "cell_type": "code",
   "execution_count": 129,
   "id": "66f3b1af",
   "metadata": {},
   "outputs": [
    {
     "data": {
      "image/png": "[encoded data removed]",
      "text/plain": [
       "<Figure size 640x480 with 1 Axes>"
      ]
     },
     "metadata": {},
     "output_type": "display_data"
    }
   ],
   "source": [
    "#Creates the pie chart based on value above\n",
    "#Automatically find the finds the percentages of each part of the pie chart\n",
    "plt.pie(Employers, explode=explode, labels=Districts, colors=colors, autopct=\n",
    "       \"%1.1f%%\", shadow=True, startangle=140)\n",
    "#Telling matplotlib that I want a pie chart with equal axes\n",
    "plt.axis(\"equal\")\n",
    "plt.savefig(\"Fig2ClarajeanLugenge.png\")\n",
    "plt.show()"
   ]
  },
  {
   "cell_type": "code",
   "execution_count": 130,
   "id": "21a4dc5e",
   "metadata": {},
   "outputs": [],
   "source": [
    "#Creating a pie chart to show a value that shows how many times the number of educated people is greater than the number of employers.\n",
    "#Create a variable for it and name it times\n",
    "\n",
    "times = Educated_people / Employers\n",
    "\n",
    "#This shows how many more times is the number of educated people than employers"
   ]
  },
  {
   "cell_type": "code",
   "execution_count": 131,
   "id": "0ed53ee2",
   "metadata": {},
   "outputs": [
    {
     "data": {
      "text/plain": [
       "District\n",
       "East York      1.346593\n",
       "Etobicoke      1.414220\n",
       "North York     1.501402\n",
       "Old Toronto    1.335581\n",
       "SCARBOROUGH    1.490551\n",
       "York           1.287377\n",
       "Name: number of educated people, dtype: float64"
      ]
     },
     "execution_count": 131,
     "metadata": {},
     "output_type": "execute_result"
    }
   ],
   "source": [
    "times"
   ]
  },
  {
   "cell_type": "code",
   "execution_count": 132,
   "id": "92df44ad",
   "metadata": {},
   "outputs": [
    {
     "data": {
      "text/plain": [
       "count    6.000000\n",
       "mean     1.395954\n",
       "std      0.087489\n",
       "min      1.287377\n",
       "25%      1.338334\n",
       "50%      1.380406\n",
       "75%      1.471468\n",
       "max      1.501402\n",
       "Name: number of educated people, dtype: float64"
      ]
     },
     "execution_count": 132,
     "metadata": {},
     "output_type": "execute_result"
    }
   ],
   "source": [
    "times.describe()"
   ]
  },
  {
   "cell_type": "code",
   "execution_count": 133,
   "id": "0bef9279",
   "metadata": {},
   "outputs": [],
   "source": [
    "#From looking at the first pie chart, the analysis shows that Old Toronto has the highest number of employers\n",
    "#But, looking at the data from a better analysis of how many more times is the number of educated people compared to number of employers,York wins\n",
    "#York wins in that the number of educated people isn't as large compared to number of employers thus a minimum ratio of 1.287377\n",
    "#When the number of educated people isnt far too large than employers it means the chances for getting a job is higher and the competition isnt as high\n",
    "#If the number of educated people is way more than employers, thus a higher ratio,it means the competition is higher thus less job opportunities\n"
   ]
  },
  {
   "cell_type": "code",
   "execution_count": 1,
   "id": "0c47ab07",
   "metadata": {},
   "outputs": [],
   "source": [
    "#Conclusion - There are more Job opportunities in York district\n",
    "#Data set was from the link https://www.kaggle.com/datasets/youssef19/toronto-neighborhoods-inforamtion"
   ]
  },
  {
   "cell_type": "code",
   "execution_count": null,
   "id": "ba570f9d",
   "metadata": {},
   "outputs": [],
   "source": []
  }
 ],
 "metadata": {
  "kernelspec": {
   "display_name": "Python 3 (ipykernel)",
   "language": "python",
   "name": "python3"
  },
  "language_info": {
   "codemirror_mode": {
    "name": "ipython",
    "version": 3
   },
   "file_extension": ".py",
   "mimetype": "text/x-python",
   "name": "python",
   "nbconvert_exporter": "python",
   "pygments_lexer": "ipython3",
   "version": "3.10.11"
  }
 },
 "nbformat": 4,
 "nbformat_minor": 5
}
